{
 "cells": [
  {
   "cell_type": "code",
   "execution_count": 13,
   "metadata": {},
   "outputs": [],
   "source": [
    "import pandas as pd \n",
    "import spacy\n",
    "from sklearn.model_selection import train_test_split\n",
    "\n",
    "Data = pd.read_csv('Processed_News_Data3.csv',encoding='utf8')\n",
    "y = Data.outcome"
   ]
  },
  {
   "cell_type": "code",
   "execution_count": 14,
   "metadata": {},
   "outputs": [],
   "source": [
    "from sklearn.feature_extraction.text import TfidfVectorizer\n",
    "\n",
    "tfid = TfidfVectorizer(sublinear_tf=True,\n",
    "                      min_df=5,\n",
    "                       norm= 'l2',\n",
    "                      ngram_range=(1,2),\n",
    "                      stop_words='english')\n",
    "\n"
   ]
  },
  {
   "cell_type": "code",
   "execution_count": 15,
   "metadata": {},
   "outputs": [],
   "source": [
    "Data.drop(['title','subject','date'],axis=1,inplace=True)\n",
    "\n"
   ]
  },
  {
   "cell_type": "code",
   "execution_count": 16,
   "metadata": {},
   "outputs": [],
   "source": [
    "from sklearn.feature_extraction.text import TfidfVectorizer\n",
    "\n",
    "tfid = TfidfVectorizer(sublinear_tf=True,\n",
    "                      min_df=5,\n",
    "                       norm= 'l2',\n",
    "                      ngram_range=(1,2),\n",
    "                      stop_words='english')"
   ]
  },
  {
   "cell_type": "code",
   "execution_count": 17,
   "metadata": {},
   "outputs": [],
   "source": [
    "#Data = tfid.fit_transform(Data['text'].values.astype('U')).toarray()\n",
    "feats = tfid.fit_transform(Data['text'].values.astype('U'))"
   ]
  },
  {
   "cell_type": "code",
   "execution_count": 18,
   "metadata": {},
   "outputs": [],
   "source": [
    "from sklearn.feature_extraction.text import CountVectorizer\n",
    "X_train,X_valid,y_train,y_valid = train_test_split(Data,y,train_size=0.8,test_size=0.2)\n"
   ]
  },
  {
   "cell_type": "code",
   "execution_count": 19,
   "metadata": {},
   "outputs": [],
   "source": [
    "cv = CountVectorizer()"
   ]
  },
  {
   "cell_type": "code",
   "execution_count": 22,
   "metadata": {},
   "outputs": [],
   "source": [
    "from sklearn.svm import LinearSVC\n",
    "from sklearn.feature_extraction.text import TfidfTransformer\n",
    "\n",
    "X_train_cnt = cv.fit_transform(X_train['text'].values.astype('U'))\n"
   ]
  },
  {
   "cell_type": "code",
   "execution_count": 23,
   "metadata": {},
   "outputs": [],
   "source": [
    "tf_trans = TfidfTransformer()\n",
    "X_train_tf = tf_trans.fit_transform(X_train_cnt)"
   ]
  },
  {
   "cell_type": "code",
   "execution_count": 24,
   "metadata": {},
   "outputs": [],
   "source": [
    "mod = LinearSVC().fit(X_train_tf,y_train)"
   ]
  },
  {
   "cell_type": "code",
   "execution_count": 29,
   "metadata": {},
   "outputs": [],
   "source": [
    "preds = mod.predict(cv.transform(X_valid['text'].values.astype('U')))"
   ]
  },
  {
   "cell_type": "code",
   "execution_count": 31,
   "metadata": {},
   "outputs": [
    {
     "name": "stdout",
     "output_type": "stream",
     "text": [
      "              precision    recall  f1-score   support\n",
      "\n",
      "        Fake       1.00      0.79      0.88      4598\n",
      "        True       0.82      1.00      0.90      4382\n",
      "\n",
      "    accuracy                           0.89      8980\n",
      "   macro avg       0.91      0.90      0.89      8980\n",
      "weighted avg       0.91      0.89      0.89      8980\n",
      "\n"
     ]
    }
   ],
   "source": [
    "from sklearn.metrics import classification_report\n",
    "\n",
    "print(classification_report(y_valid,preds))"
   ]
  },
  {
   "cell_type": "code",
   "execution_count": 33,
   "metadata": {},
   "outputs": [],
   "source": [
    "opt = pd.DataFrame({'text':X_valid.text,'outcome':preds})"
   ]
  },
  {
   "cell_type": "code",
   "execution_count": 34,
   "metadata": {},
   "outputs": [],
   "source": [
    "opt.to_csv('news_res.csv',index=False)"
   ]
  },
  {
   "cell_type": "code",
   "execution_count": 35,
   "metadata": {},
   "outputs": [],
   "source": [
    "test_data = pd.read_excel('News_test.xlsx')\n"
   ]
  },
  {
   "cell_type": "code",
   "execution_count": 37,
   "metadata": {},
   "outputs": [],
   "source": [
    "preds2 = mod.predict(cv.transform(test_data['text'].values.astype('U')))"
   ]
  },
  {
   "cell_type": "code",
   "execution_count": 38,
   "metadata": {},
   "outputs": [],
   "source": [
    "opt = pd.DataFrame({'text':test_data.text,'outcome':preds2})"
   ]
  },
  {
   "cell_type": "code",
   "execution_count": 39,
   "metadata": {},
   "outputs": [],
   "source": [
    "opt.to_csv('news_res2.csv',index=False)"
   ]
  },
  {
   "cell_type": "code",
   "execution_count": 40,
   "metadata": {},
   "outputs": [],
   "source": [
    "from sklearn.naive_bayes import MultinomialNB\n",
    "\n",
    "mod2 = MultinomialNB()"
   ]
  },
  {
   "cell_type": "code",
   "execution_count": 42,
   "metadata": {},
   "outputs": [
    {
     "data": {
      "text/plain": [
       "MultinomialNB(alpha=1.0, class_prior=None, fit_prior=True)"
      ]
     },
     "execution_count": 42,
     "metadata": {},
     "output_type": "execute_result"
    }
   ],
   "source": [
    "mod2.fit(X_train_tf,y_train)"
   ]
  },
  {
   "cell_type": "code",
   "execution_count": 45,
   "metadata": {},
   "outputs": [],
   "source": [
    "preds3 = mod2.predict(cv.transform(X_valid['text'].values.astype('U')))"
   ]
  },
  {
   "cell_type": "code",
   "execution_count": 46,
   "metadata": {},
   "outputs": [
    {
     "name": "stdout",
     "output_type": "stream",
     "text": [
      "              precision    recall  f1-score   support\n",
      "\n",
      "        Fake       0.97      0.93      0.95      4598\n",
      "        True       0.93      0.97      0.95      4382\n",
      "\n",
      "    accuracy                           0.95      8980\n",
      "   macro avg       0.95      0.95      0.95      8980\n",
      "weighted avg       0.95      0.95      0.95      8980\n",
      "\n"
     ]
    }
   ],
   "source": [
    "print(classification_report(y_valid,preds3))"
   ]
  },
  {
   "cell_type": "code",
   "execution_count": 47,
   "metadata": {},
   "outputs": [
    {
     "name": "stdout",
     "output_type": "stream",
     "text": [
      "              precision    recall  f1-score   support\n",
      "\n",
      "        Fake       1.00      0.79      0.88      4598\n",
      "        True       0.82      1.00      0.90      4382\n",
      "\n",
      "    accuracy                           0.89      8980\n",
      "   macro avg       0.91      0.90      0.89      8980\n",
      "weighted avg       0.91      0.89      0.89      8980\n",
      "\n"
     ]
    }
   ],
   "source": [
    "print(classification_report(y_valid,preds))"
   ]
  },
  {
   "cell_type": "code",
   "execution_count": 117,
   "metadata": {},
   "outputs": [],
   "source": [
    "a = ['Yugoslav crimes commanding Thaci genocide political indictments sold related Criminal crucial indict mainly','State companies Operations foreign cover treatment wide published spokesman Geng lack called President hotels business respectively politicians Industry latest constitutional reported libraries bars complete areas construction world focused DTTM cut Philippines demonstrates South escort early related protected like interest','operations continues heavy - seen Defense Israelis militia push Iraq Kirkuk U.S.-led media face increase grown country Pompeo Saudi covert meet contact intelligence past East sway onslaught Forum exert places allied highlights coalition American Ayatollah Southern control broader need Syria comes military fighters long Israel    chief share frontlines win Agency elite concerns concern weeks saying Isis work National specify ally Iranian regional open sure commander sent Khamenei forces terrorism agency alongside disclosure states repeatedly Revolutionary news State foreign likely city influence Syrian northern reported Fars Kurdish CIA crystal Supreme traveled date read hegemonic Tehran Arabia seeks rumored January relationships Speaking increasingly Iraqi indicated proximity','Channel Friday alleged interview collusion election set campaign air News Thursday airing provided obstructed FBI possible presidential advance President obstruction Reuters 2016 investigation Fox Russian meddling transctipt Trump Look partial WASHINGTON said U.S. Donald told','Tuesday investigations      Investigation Citing payments adviser campaign including existence citizen ambassador fired presidential department Russia nominee probes jury national Reuters ongoing prosecutors Director email   Alexandria issued United CNN Comey U.S. Donald joined links Office lost Intelligence truth benefit Robert central scandal immediately attorney contracts Hillary Attorney contacts matter job 2016 Flynn director general Department WASHINGTON said Justice people Virginia emerged collusion Defense Clinton request White possible FBI comment interfering House Michael tell records Democratic States governments Agency Russian 2014 Trump saying handling properly Kelner year meddled denied allegations pushed Bureau election familiar Turkey James Federal clients security disclosed grand repeatedly respond subpoenas seeking foreign worked private business President involving retired reported later denies looking failed administration targeted February figure confidence Investigators spokeswoman','700 Sports 10 Club disrespectful doesn video Cutter Jersey walk attitude 2017What mother guy middle New base green worst 2017Of club rules game tracks 2017Trump drove Wickham s Lisa   old paying Italy member hit meeting pic.twitter.com/UWuIcCIOnT fun & Donald calories bully wk image @BittnerJohn leaders 2017beyond appalled thing hardly home held America @ahhdeeh strongly Frederick Images 2017All ass Getty rode @SpecV63 outings 72 near matter guess vote G-7 burning insists rich MacNicol John golf Bad Daniel jerk plays 2017People CLUB 22 ft Putting / June Bedminster white assholes possible cart spends yards frequent hates Sardella    t Illustrated driving ones Jack defending 2017For Trump etiquette @SInow 2 @CutPhD owns rest male time having weren hat exercising golfer today 2017As yr ettiquette BTW- straight course @Nicksplosion entitled @ybbkaren fringe died members drive broke Nick Jerry Twitter know frm big tire President 30-second bad fuming played sense Featured world Walker @jawickham Ian LoyalOppositionKaren MikeNFrank m like'] \n",
    "dat = pd.DataFrame({'text':a})"
   ]
  },
  {
   "cell_type": "code",
   "execution_count": 185,
   "metadata": {},
   "outputs": [],
   "source": [
    "nlp = spacy.load('en_core_web_sm')\n",
    "news = nlp('A piece published by the Centre for Research on Globalization and circulated on social media claims the virus known as COVID-19 originated outside China.That March 11 posting makes references to a March 4 post on the same site by the same author that claims the virus \"may have originated in the U.S.\" Titled “A Shocking Update. Did The Virus Originate in the U.S.?” the earlier post makes several questionable claims about the origins of COVID-19 while misrepresenting cited research and media reports.The central claim of both the March 4 and 11 posts — that COVID-19 may have been brought to China by the U.S. Army — was recently echoed by a Chinese government official on Twitter. The Chinese officials claims were presented without evidence.Several of the central statements in the March 4 article misrepresent cited research or make unclear assertions. USA TODAY reached out to Larry Romanoff, author of both posts, for clarification on several of the claims made,  but was unable to reach him for comment.')\n",
    "news2 = nlp('On March 15, vegan influencer Ed Winters, who often goes by the name “Earthling Ed” on social media, posted a graphic to his Instagram account stating that “COVID-19 was caused by eating animals.” \"The new coronavirus pandemic would not have started if we didn’t farm and eat animals,\" Winters wrote.The post lists several other diseases that reached epidemic and pandemic levels, and it asserts that \"the one thing they all have in common is that they started because of our exploitation of #animals.\" The graphic on the post concludes that “COVID-19 would not exist if the world was vegan. Your personal choice to eat animals impacts every living being on this planet.\" The graphic, which has received more than 66,000 likes and 3,000 comments on Winters Instagram account, was reposted to @cowspiracy, another Instagram account, where it also went viral. @Cowspiracy advocates for veganism –  including promoting the 2014 documentary “Cowspiracy: The Sustainability Secret” – and advocates for other pro-animal rights policies. On the @Cowspiracy account, the post in question has more than 27,000 likes and 1,000 comments, as of this writing.When USA TODAY reached to Winters for comment, he provided further context and detail to his claim. “Of course, many zoonotic diseases are unrelated to our exploitation of animals, and being vegan wouldn’t completely eliminate all of them, (Zika virus) being a prime example.” Winters, however, provided a study co-written by the World Health Organization that found some behaviors associated with eating meat can be risk factors in the rise of new diseases.It is impossible to determine whether COVID-19 would have arisen without the existence of the wet markets or settings like it, but it is true that such markets supply the conditions for such diseases to arise and infect humans. Indeed, SARS, or severe acute respiratory syndrome, resulted from a virus transferring from bats to civet cats and then humans. Discovered in 2003, SARS originated at a wet market similar to the one now suspected to be the origin of COVID-19.Similarly, it is difficult to determine how many zoonotic diseases would arise in a world where humans didn’t eat meat. Yet even with the preventative measures in the American food system, like feeding livestock antibiotics and pathogen-reducing treatments like the chlorine washing of meat, the proximity to animals still allows for the possibility that diseases might be transferred through direct human-animal contact.Reducing human contact with animals, however, is likely the most effective way to lower the risk of transferring pandemic-causing viruses and bacteria to humans from animal populations.')\n",
    "news3 = nlp('As the novel coronavirus continues to spread, health officials have encouraged members of the public to practice good hygiene by washing their hands frequently, or by using hand sanitizer with at least 60% alcohol if soap and water is unavailable. But a Facebook post on Saturday told pet owners that hand sanitizer can prove harmful to their animals because it “has the same ingredients as antifreeze.”  The most commonly used active ingredients in hand sanitizer are ethyl alcohol, or ethanol; isopropyl alcohol, which is found in rubbing alcohol; and benzalkonium chloride, which is commonly used in alcohol-free sanitizers. According to the Food and Drug Administration, about 97% of over-the-counter hand sanitizers use one of these three active ingredients.The main ingredients of antifreeze are much different. Radiator antifreeze includes either ethylene glycol, which is toxic to humans, or propylene glycol, a compound that is much less toxic and even considered safe in certain amounts. Some foods, medications and cosmetics contain propylene glycol.Dr. Ed Bottei, medical director at the Iowa Poison Control Center, said the center does receive calls for people drinking sanitizer. They often fall into two categories: children who get into their parents hand sanitizer, and people who are drinking it purposefully for the alcohol content.Ethyl alcohol in hand sanitizer can cause the same issues as drinking too much of an alcoholic beverage, he said. Hand sanitizer commonly ranges from 60-70% alcohol, which is the equivalent of 120-proof to 140-proof alcohol, Bottei said. But Bottei said a pet that licks a hand that’s still slightly wet with sanitizer wouldn’t ingest nearly enough of it to cause side effects.The amount that they lick off your hand — even if you rubbed it in and they slobber all over your hand and lick everything off thats left there — is not going to hurt them, he said. Its not going to make them drunk, and it sure isnt going to kill them.\"')"
   ]
  },
  {
   "cell_type": "code",
   "execution_count": 186,
   "metadata": {},
   "outputs": [],
   "source": [
    "\n",
    "temp = []\n",
    "for token in news3:\n",
    "    if (token.is_stop==False and token.pos_!='PUNCT' and token.pos_!=\"SPACE\"):\n",
    "        temp.append(token.text)\n",
    "        \n",
    "fin = \" \".join(list(set(temp)))\n",
    "        \n",
    "        "
   ]
  },
  {
   "cell_type": "code",
   "execution_count": null,
   "metadata": {
    "scrolled": true
   },
   "outputs": [],
   "source": []
  },
  {
   "cell_type": "code",
   "execution_count": 187,
   "metadata": {},
   "outputs": [],
   "source": [
    "dat = pd.DataFrame({'text':[fin]})\n"
   ]
  },
  {
   "cell_type": "code",
   "execution_count": 188,
   "metadata": {},
   "outputs": [],
   "source": [
    "p = mod2.predict(cv.transform(dat['text'].values.astype('U')))"
   ]
  },
  {
   "cell_type": "code",
   "execution_count": 189,
   "metadata": {},
   "outputs": [
    {
     "data": {
      "text/plain": [
       "array(['Fake'], dtype='<U4')"
      ]
     },
     "execution_count": 189,
     "metadata": {},
     "output_type": "execute_result"
    }
   ],
   "source": [
    "p"
   ]
  },
  {
   "cell_type": "code",
   "execution_count": null,
   "metadata": {},
   "outputs": [],
   "source": []
  }
 ],
 "metadata": {
  "kernelspec": {
   "display_name": "Python 3",
   "language": "python",
   "name": "python3"
  },
  "language_info": {
   "codemirror_mode": {
    "name": "ipython",
    "version": 3
   },
   "file_extension": ".py",
   "mimetype": "text/x-python",
   "name": "python",
   "nbconvert_exporter": "python",
   "pygments_lexer": "ipython3",
   "version": "3.7.3"
  }
 },
 "nbformat": 4,
 "nbformat_minor": 2
}
